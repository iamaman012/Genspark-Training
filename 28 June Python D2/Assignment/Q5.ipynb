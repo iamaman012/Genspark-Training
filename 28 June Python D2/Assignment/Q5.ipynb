{
 "cells": [
  {
   "cell_type": "code",
   "execution_count": 18,
   "metadata": {},
   "outputs": [
    {
     "name": "stdout",
     "output_type": "stream",
     "text": [
      "Yes 79927398713 is a valid credit card number\n"
     ]
    }
   ],
   "source": [
    "#Credit card validation - Luhn check algorithm\n",
    "def luhn_check(n):\n",
    "    listNum = []\n",
    "    sum=0\n",
    "    for x in n:\n",
    "        listNum.append(int(x))\n",
    "    listNum.reverse()\n",
    "    \n",
    "    for i in range(1,len(listNum),2):\n",
    "        \n",
    "        listNum[i]=listNum[i]*2\n",
    "        \n",
    "        if len(str(listNum[i]))==2:\n",
    "            a=listNum[i]//10\n",
    "            b=listNum[i]%10\n",
    "            listNum[i]=a+b\n",
    "    \n",
    "    for x in listNum:\n",
    "        sum=sum+x\n",
    "    return sum%10==0\n",
    "            \n",
    " \n",
    "\n",
    "\n",
    "num = input(\"Enter the 16 digit Credit Card number:\")\n",
    "if luhn_check(num):\n",
    "    print(f\"Yes {num} is a valid credit card number\")\n",
    "else:\n",
    "    print(f\"{num} is not a Valid Credit card Number\")"
   ]
  },
  {
   "cell_type": "code",
   "execution_count": null,
   "metadata": {},
   "outputs": [],
   "source": []
  }
 ],
 "metadata": {
  "kernelspec": {
   "display_name": "Python 3",
   "language": "python",
   "name": "python3"
  },
  "language_info": {
   "codemirror_mode": {
    "name": "ipython",
    "version": 3
   },
   "file_extension": ".py",
   "mimetype": "text/x-python",
   "name": "python",
   "nbconvert_exporter": "python",
   "pygments_lexer": "ipython3",
   "version": "3.12.4"
  }
 },
 "nbformat": 4,
 "nbformat_minor": 2
}
