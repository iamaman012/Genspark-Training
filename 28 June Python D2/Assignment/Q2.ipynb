{
 "cells": [
  {
   "cell_type": "code",
   "execution_count": 4,
   "metadata": {},
   "outputs": [
    {
     "name": "stdout",
     "output_type": "stream",
     "text": [
      "2\n",
      "3\n",
      "5\n",
      "7\n"
     ]
    }
   ],
   "source": [
    "# Print the list of prime numbers up to a given number\n",
    "def is_prime(n):\n",
    "    if n < 2:\n",
    "        return False\n",
    "    if n == 2:\n",
    "        return True\n",
    "    for x in range(2, n): \n",
    "        if n % x == 0:\n",
    "            return False\n",
    "    return True\n",
    "\n",
    "def print_prime(n):\n",
    "    if n < 2:\n",
    "        print(\"No prime numbers\")\n",
    "        return\n",
    "    for x in range(2, n + 1):\n",
    "        if is_prime(x):\n",
    "            print(x)\n",
    "\n",
    "num = int(input(\"Enter a number: \"))\n",
    "print_prime(num)\n"
   ]
  }
 ],
 "metadata": {
  "kernelspec": {
   "display_name": "Python 3",
   "language": "python",
   "name": "python3"
  },
  "language_info": {
   "codemirror_mode": {
    "name": "ipython",
    "version": 3
   },
   "file_extension": ".py",
   "mimetype": "text/x-python",
   "name": "python",
   "nbconvert_exporter": "python",
   "pygments_lexer": "ipython3",
   "version": "3.12.4"
  }
 },
 "nbformat": 4,
 "nbformat_minor": 2
}
