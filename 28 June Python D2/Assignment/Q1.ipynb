{
 "cells": [
  {
   "cell_type": "code",
   "execution_count": 4,
   "metadata": {},
   "outputs": [
    {
     "name": "stdout",
     "output_type": "stream",
     "text": [
      "Length: 7, Substring: eksforG\n"
     ]
    }
   ],
   "source": [
    "# find the longest substring without repeating character\n",
    "def longest_subs(str1):\n",
    "    result = 0\n",
    "    xi = 0\n",
    "    yj = 0\n",
    "    st = set()\n",
    "    i = 0\n",
    "    \n",
    "    for j in range(len(str1)):\n",
    "        while str1[j] in st:\n",
    "            st.remove(str1[i])\n",
    "            i += 1\n",
    "        st.add(str1[j])\n",
    "        \n",
    "        if result < j - i + 1:\n",
    "            result = j - i + 1\n",
    "            xi = i\n",
    "            yj = j\n",
    "\n",
    "    print(f\"Length: {result}, Substring: {str1[xi:yj+1]}\")\n",
    "\n",
    "str1 = input(\"Please Enter a String: \")\n",
    "longest_subs(str1)\n"
   ]
  }
 ],
 "metadata": {
  "kernelspec": {
   "display_name": "Python 3",
   "language": "python",
   "name": "python3"
  },
  "language_info": {
   "codemirror_mode": {
    "name": "ipython",
    "version": 3
   },
   "file_extension": ".py",
   "mimetype": "text/x-python",
   "name": "python",
   "nbconvert_exporter": "python",
   "pygments_lexer": "ipython3",
   "version": "3.12.4"
  }
 },
 "nbformat": 4,
 "nbformat_minor": 2
}
