{
 "cells": [
  {
   "cell_type": "code",
   "execution_count": 1,
   "metadata": {},
   "outputs": [
    {
     "name": "stdout",
     "output_type": "stream",
     "text": [
      "['Frank', 76]\n",
      "['Leo', 77]\n",
      "['Charlie', 78]\n",
      "['Oscar', 79]\n",
      "['Ivy', 80]\n",
      "['Rose', 81]\n",
      "['Bob', 82]\n",
      "['Steve', 83]\n",
      "['Mona', 84]\n",
      "['Grace', 85]\n"
     ]
    }
   ],
   "source": [
    "#Sort score and name of players print the top 10\n",
    "# List of 20 players with their scores\n",
    "players = [\n",
    "    [\"Alice\", 95],\n",
    "    [\"Bob\", 82],\n",
    "    [\"Charlie\", 78],\n",
    "    [\"Diana\", 88],\n",
    "    [\"Eve\", 90],\n",
    "    [\"Frank\", 76],\n",
    "    [\"Grace\", 85],\n",
    "    [\"Hank\", 93],\n",
    "    [\"Ivy\", 80],\n",
    "    [\"Jack\", 89],\n",
    "    [\"Karen\", 92],\n",
    "    [\"Leo\", 77],\n",
    "    [\"Mona\", 84],\n",
    "    [\"Nina\", 91],\n",
    "    [\"Oscar\", 79],\n",
    "    [\"Paul\", 87],\n",
    "    [\"Quinn\", 86],\n",
    "    [\"Rose\", 81],\n",
    "    [\"Steve\", 83],\n",
    "    [\"Tina\", 94]\n",
    "]\n",
    "players.sort(key=lambda x:x[1]) # sort based on the score then name\n",
    "for i in range(10):\n",
    "    print(players[i])\n"
   ]
  }
 ],
 "metadata": {
  "kernelspec": {
   "display_name": "Python 3",
   "language": "python",
   "name": "python3"
  },
  "language_info": {
   "codemirror_mode": {
    "name": "ipython",
    "version": 3
   },
   "file_extension": ".py",
   "mimetype": "text/x-python",
   "name": "python",
   "nbconvert_exporter": "python",
   "pygments_lexer": "ipython3",
   "version": "3.12.4"
  }
 },
 "nbformat": 4,
 "nbformat_minor": 2
}
