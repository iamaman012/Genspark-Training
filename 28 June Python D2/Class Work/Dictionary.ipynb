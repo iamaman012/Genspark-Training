{
 "cells": [
  {
   "cell_type": "code",
   "execution_count": 1,
   "metadata": {},
   "outputs": [
    {
     "name": "stdout",
     "output_type": "stream",
     "text": [
      "{'name': 'John', 'age': 25, 'job': 'Developer'}\n"
     ]
    }
   ],
   "source": [
    "# create a dictionary \n",
    "dict1 = {'name': 'John', 'age': 25, 'job': 'Developer'}\n",
    "print(dict1)"
   ]
  },
  {
   "cell_type": "code",
   "execution_count": 2,
   "metadata": {},
   "outputs": [
    {
     "name": "stdout",
     "output_type": "stream",
     "text": [
      "{'name': 'John', 'age': 25, 'job': 'Developer'}\n"
     ]
    }
   ],
   "source": [
    "# create a dictionary using dict() constructor\n",
    "dict2 = dict(name='John', age=25, job='Developer')\n",
    "print(dict2)"
   ]
  },
  {
   "cell_type": "code",
   "execution_count": 3,
   "metadata": {},
   "outputs": [
    {
     "name": "stdout",
     "output_type": "stream",
     "text": [
      "{'name': 'John', 'age': 25, 'job': 'Developer', 'city': 'New York'}\n"
     ]
    }
   ],
   "source": [
    "# adding elements to a dictionary\n",
    "dict1['city'] = 'New York'\n",
    "print(dict1)"
   ]
  },
  {
   "cell_type": "code",
   "execution_count": 4,
   "metadata": {},
   "outputs": [
    {
     "name": "stdout",
     "output_type": "stream",
     "text": [
      "{'name': 'John', 'job': 'Developer', 'city': 'New York'}\n",
      "{'name': 'John', 'job': 'Developer'}\n"
     ]
    }
   ],
   "source": [
    "# remove elements from a dictionary\n",
    "del dict1['age']\n",
    "print(dict1)\n",
    "\n",
    "# remove element using pop() method\n",
    "dict2.pop('age')\n",
    "print(dict2)"
   ]
  },
  {
   "cell_type": "code",
   "execution_count": 5,
   "metadata": {},
   "outputs": [
    {
     "name": "stdout",
     "output_type": "stream",
     "text": [
      "name John\n",
      "job Developer\n",
      "city New York\n"
     ]
    }
   ],
   "source": [
    "# looping the dioctionary\n",
    "for key in dict1:\n",
    "    print(key, dict1[key])"
   ]
  },
  {
   "cell_type": "code",
   "execution_count": 6,
   "metadata": {},
   "outputs": [
    {
     "name": "stdout",
     "output_type": "stream",
     "text": [
      "John\n"
     ]
    }
   ],
   "source": [
    "#acessing the item of the dictionary\n",
    "print(dict1['name'])"
   ]
  },
  {
   "cell_type": "code",
   "execution_count": 9,
   "metadata": {},
   "outputs": [
    {
     "name": "stdout",
     "output_type": "stream",
     "text": [
      "{'name': 'Jane', 'job': 'Developer', 'city': 'New York'}\n"
     ]
    }
   ],
   "source": [
    "# chnging the item of the dictionary\n",
    "dict1['name'] = 'Jane'\n",
    "print(dict1)"
   ]
  }
 ],
 "metadata": {
  "kernelspec": {
   "display_name": "Python 3",
   "language": "python",
   "name": "python3"
  },
  "language_info": {
   "codemirror_mode": {
    "name": "ipython",
    "version": 3
   },
   "file_extension": ".py",
   "mimetype": "text/x-python",
   "name": "python",
   "nbconvert_exporter": "python",
   "pygments_lexer": "ipython3",
   "version": "3.12.4"
  }
 },
 "nbformat": 4,
 "nbformat_minor": 2
}
