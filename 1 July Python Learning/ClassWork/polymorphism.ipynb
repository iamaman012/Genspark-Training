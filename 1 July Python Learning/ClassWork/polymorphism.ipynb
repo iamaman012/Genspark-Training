{
 "cells": [
  {
   "cell_type": "code",
   "execution_count": 2,
   "metadata": {},
   "outputs": [
    {
     "name": "stdout",
     "output_type": "stream",
     "text": [
      "Tesla\n",
      "X\n",
      "Move!!\n",
      "Boeing\n",
      "737\n",
      "Fly!!\n"
     ]
    }
   ],
   "source": [
    "# polymorphism in class\n",
    "\n",
    "class Vehicle:\n",
    "    def __init__(self,brand,model):\n",
    "        self.brand=brand\n",
    "        self.model=model\n",
    "    def display(self):\n",
    "        print(self.brand)\n",
    "        print(self.model)\n",
    "    def move(self):\n",
    "        print(\"Move!!\")\n",
    "\n",
    "\n",
    "class Car(Vehicle):\n",
    "    pass           # it will not override the move method\n",
    "\n",
    "class Plane(Vehicle):\n",
    "    def move(self):   # it will override the vehicle move method\n",
    "        print(\"Fly!!\")\n",
    "\n",
    "\n",
    "car1 = Car(\"Tesla\",\"X\")\n",
    "p1= Plane(\"Boeing\",737)\n",
    "\n",
    "for x in (car1,p1):\n",
    "    x.display()\n",
    "    x.move()"
   ]
  }
 ],
 "metadata": {
  "kernelspec": {
   "display_name": "Python 3",
   "language": "python",
   "name": "python3"
  },
  "language_info": {
   "codemirror_mode": {
    "name": "ipython",
    "version": 3
   },
   "file_extension": ".py",
   "mimetype": "text/x-python",
   "name": "python",
   "nbconvert_exporter": "python",
   "pygments_lexer": "ipython3",
   "version": "3.12.4"
  }
 },
 "nbformat": 4,
 "nbformat_minor": 2
}
