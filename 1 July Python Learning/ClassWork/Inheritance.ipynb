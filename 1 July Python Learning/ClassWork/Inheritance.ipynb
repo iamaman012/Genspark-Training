{
 "cells": [
  {
   "cell_type": "code",
   "execution_count": 1,
   "metadata": {},
   "outputs": [
    {
     "name": "stdout",
     "output_type": "stream",
     "text": [
      "Name :John\n",
      " Age:25\n"
     ]
    }
   ],
   "source": [
    "# inheritance in python\n",
    "\n",
    "class Person:\n",
    "    def __init__(self,name,age):\n",
    "        self.name=name\n",
    "        self.age=age\n",
    "    \n",
    "    def display(self):\n",
    "        print(f\"Name :{self.name}\\n Age:{self.age}\")\n",
    "\n",
    "p=Person(\"John\",25)\n",
    "p.display()\n",
    "    \n",
    "        "
   ]
  },
  {
   "cell_type": "code",
   "execution_count": 2,
   "metadata": {},
   "outputs": [
    {
     "name": "stdout",
     "output_type": "stream",
     "text": [
      "Name :David\n",
      " Age:19\n"
     ]
    }
   ],
   "source": [
    "class Student(Person):\n",
    "    pass\n",
    "\n",
    "s=Student(\"David\",19)\n",
    "\n",
    "s.display()"
   ]
  },
  {
   "cell_type": "code",
   "execution_count": 11,
   "metadata": {},
   "outputs": [
    {
     "name": "stdout",
     "output_type": "stream",
     "text": [
      "Name :Michel\n",
      " Age:34\n",
      "welcome Michel To the Python Learnning\n"
     ]
    }
   ],
   "source": [
    "class Student1(Person):\n",
    "    def __init__(self,name,age):\n",
    "        super().__init__(name,age)\n",
    "    def welcome(self):\n",
    "        print(f\"welcome {self.name} To the Python Learnning\")\n",
    "\n",
    "s1=Student1(\"Michel\",34)\n",
    "s1.display() #it will call the parent class function\n",
    "s1.welcome()"
   ]
  }
 ],
 "metadata": {
  "kernelspec": {
   "display_name": "Python 3",
   "language": "python",
   "name": "python3"
  },
  "language_info": {
   "codemirror_mode": {
    "name": "ipython",
    "version": 3
   },
   "file_extension": ".py",
   "mimetype": "text/x-python",
   "name": "python",
   "nbconvert_exporter": "python",
   "pygments_lexer": "ipython3",
   "version": "3.12.4"
  }
 },
 "nbformat": 4,
 "nbformat_minor": 2
}
