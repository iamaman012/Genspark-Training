{
 "cells": [
  {
   "cell_type": "code",
   "execution_count": null,
   "metadata": {},
   "outputs": [],
   "source": [
    "# operators in python\n",
    "# arithmetic operators\n",
    "# comparison operators\n",
    "# logical operators\n",
    "# assignment operators\n",
    "# bitwise operators\n",
    "# membership operators\n",
    "# identity operators\n",
    "\n"
   ]
  },
  {
   "cell_type": "code",
   "execution_count": 1,
   "metadata": {},
   "outputs": [
    {
     "name": "stdout",
     "output_type": "stream",
     "text": [
      "15\n",
      "5\n",
      "50\n",
      "2.0\n",
      "2\n",
      "0\n",
      "100000\n",
      "-10\n"
     ]
    }
   ],
   "source": [
    "# aithmatic operators\n",
    "# Addition\n",
    "result = 10 + 5\n",
    "print(result)  # Output: 15\n",
    "\n",
    "# Subtraction\n",
    "result = 10 - 5\n",
    "print(result)  # Output: 5\n",
    "\n",
    "# Multiplication\n",
    "result = 10 * 5\n",
    "print(result)  # Output: 50\n",
    "\n",
    "# Division\n",
    "result = 10 / 5\n",
    "print(result)  # Output: 2.0\n",
    "\n",
    "# Floor Division\n",
    "result = 10 // 5\n",
    "print(result)  # Output: 2\n",
    "\n",
    "# Modulo\n",
    "result = 10 % 5\n",
    "print(result)  # Output: 0\n",
    "\n",
    "# Exponentiation\n",
    "result = 10 ** 5\n",
    "print(result)  # Output: 100000\n",
    "\n",
    "# Negation\n",
    "result = -10\n",
    "print(result)  # Output: -10"
   ]
  },
  {
   "cell_type": "code",
   "execution_count": 2,
   "metadata": {},
   "outputs": [
    {
     "name": "stdout",
     "output_type": "stream",
     "text": [
      "False\n",
      "True\n",
      "False\n",
      "True\n",
      "False\n",
      "True\n"
     ]
    }
   ],
   "source": [
    "#comparison operators\n",
    "# comparison operators\n",
    "# Equal to\n",
    "result =-10\n",
    "print(result == 0)  \n",
    "\n",
    "# Not equal to\n",
    "print(result != 0) \n",
    "\n",
    "# Greater than\n",
    "print(result > 0) \n",
    "\n",
    "# Less than\n",
    "print(result < 0)  \n",
    "\n",
    "# Greater than or equal to\n",
    "print(result >= 0)  \n",
    "\n",
    "# Less than or equal to\n",
    "print(result <= 0) "
   ]
  },
  {
   "cell_type": "code",
   "execution_count": 3,
   "metadata": {},
   "outputs": [
    {
     "name": "stdout",
     "output_type": "stream",
     "text": [
      "False\n",
      "False\n",
      "True\n"
     ]
    }
   ],
   "source": [
    "#logical Operators\n",
    "# Logical Operators\n",
    "# AND\n",
    "result = -10\n",
    "print(result > 0 and result < 100)  # Output: False\n",
    "\n",
    "# OR\n",
    "print(result > 0 or result < -100)  # Output: True\n",
    "\n",
    "# NOT\n",
    "print(not result > 0)  # Output: True"
   ]
  }
 ],
 "metadata": {
  "kernelspec": {
   "display_name": "Python 3",
   "language": "python",
   "name": "python3"
  },
  "language_info": {
   "codemirror_mode": {
    "name": "ipython",
    "version": 3
   },
   "file_extension": ".py",
   "mimetype": "text/x-python",
   "name": "python",
   "nbconvert_exporter": "python",
   "pygments_lexer": "ipython3",
   "version": "3.12.4"
  }
 },
 "nbformat": 4,
 "nbformat_minor": 2
}
