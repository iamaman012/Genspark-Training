{
 "cells": [
  {
   "cell_type": "code",
   "execution_count": 3,
   "metadata": {},
   "outputs": [
    {
     "name": "stdout",
     "output_type": "stream",
     "text": [
      "2\n",
      "3\n",
      "5\n",
      "7\n",
      "5\n",
      "Average of Given Prime Number :4.4\n"
     ]
    }
   ],
   "source": [
    "def checkPrime(n):\n",
    "    if n<2:\n",
    "        return False\n",
    "    elif n==2:\n",
    "        return True\n",
    "    else:\n",
    "        for i in range(2,n):\n",
    "            if n%i == 0:\n",
    "                return False\n",
    "        return True\n",
    "\n",
    "def average(arr):\n",
    "    sum=0\n",
    "    count=0\n",
    "    for x in arr:\n",
    "        if checkPrime(x):\n",
    "            sum=sum+x\n",
    "            print(x)\n",
    "            count=count+1\n",
    "    print(f\"Average of Given Prime Number :{sum/count}\")\n",
    "\n",
    "\n",
    "\n",
    "\n",
    "nums =[]\n",
    "i=0\n",
    "while i<10:\n",
    "    x= int(input(\"Enter the Number: \"))\n",
    "    nums.append(x)\n",
    "    i=i+1\n",
    "\n",
    "average(nums)\n",
    "\n"
   ]
  }
 ],
 "metadata": {
  "kernelspec": {
   "display_name": "Python 3",
   "language": "python",
   "name": "python3"
  },
  "language_info": {
   "codemirror_mode": {
    "name": "ipython",
    "version": 3
   },
   "file_extension": ".py",
   "mimetype": "text/x-python",
   "name": "python",
   "nbconvert_exporter": "python",
   "pygments_lexer": "ipython3",
   "version": "3.12.4"
  }
 },
 "nbformat": 4,
 "nbformat_minor": 2
}
