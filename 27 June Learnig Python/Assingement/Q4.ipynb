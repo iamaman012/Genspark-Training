{
 "cells": [
  {
   "cell_type": "code",
   "execution_count": 7,
   "metadata": {},
   "outputs": [
    {
     "name": "stdout",
     "output_type": "stream",
     "text": [
      " Name: Aman\n",
      " Age: 23\n",
      " Date of Birth: 14/01/2001\n",
      " Phone: 8737848822\n"
     ]
    }
   ],
   "source": [
    "def details():\n",
    "    name= input(\"Enter your name: \")\n",
    "    age= int(input(\"Enter your age: \"))\n",
    "    dob= input(\"Enter your date of birth: \")\n",
    "    phone= input(\"Enter your phone number: \")\n",
    "\n",
    "    print(f\"\"\" Name: {name}\\n Age: {age}\\n Date of Birth: {dob}\\n Phone: {phone}\"\"\")\n",
    "\n",
    "details()\n"
   ]
  }
 ],
 "metadata": {
  "kernelspec": {
   "display_name": "Python 3",
   "language": "python",
   "name": "python3"
  },
  "language_info": {
   "codemirror_mode": {
    "name": "ipython",
    "version": 3
   },
   "file_extension": ".py",
   "mimetype": "text/x-python",
   "name": "python",
   "nbconvert_exporter": "python",
   "pygments_lexer": "ipython3",
   "version": "3.12.4"
  }
 },
 "nbformat": 4,
 "nbformat_minor": 2
}
